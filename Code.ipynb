{
 "cells": [
  {
   "cell_type": "markdown",
   "metadata": {},
   "source": [
    "# Author: Amit Hulandageri"
   ]
  },
  {
   "cell_type": "code",
   "execution_count": null,
   "metadata": {},
   "outputs": [],
   "source": [
    "import numpy as np\n",
    "import cv2\n",
    "import imageio\n",
    "import glob\n",
    "from numpy import linalg as LA\n",
    "from scipy.io import loadmat\n",
    "from sklearn.decomposition import PCA\n",
    "from matplotlib import pyplot as plt\n",
    "import pandas as pd\n",
    "from sklearn.model_selection import train_test_split\n",
    "from sklearn import metrics\n",
    "from PIL import Image\n",
    "np.set_printoptions(suppress=True)"
   ]
  },
  {
   "cell_type": "markdown",
   "metadata": {},
   "source": [
    "# Reading the Data"
   ]
  },
  {
   "cell_type": "code",
   "execution_count": null,
   "metadata": {},
   "outputs": [],
   "source": [
    "#Load the data\n",
    "metaData = loadmat(\"wiki_labeled.mat\",squeeze_me=True, struct_as_record=True)\n",
    "\n",
    "#converting data to dataframe\n",
    "Data=pd.DataFrame(data=metaData['wiki_labeled']['ID'].item(0),columns=['ID'],index=None)\n",
    "Data['full_path']=metaData['wiki_labeled']['full_path'].item(0)\n",
    "Data['age']=metaData['wiki_labeled']['age'].item(0)\n",
    "Data.head()"
   ]
  },
  {
   "cell_type": "markdown",
   "metadata": {},
   "source": [
    "# Splitting the data into training and test data"
   ]
  },
  {
   "cell_type": "code",
   "execution_count": null,
   "metadata": {},
   "outputs": [],
   "source": [
    "train, test = train_test_split(Data, test_size=0.2)"
   ]
  },
  {
   "cell_type": "code",
   "execution_count": null,
   "metadata": {
    "scrolled": true
   },
   "outputs": [],
   "source": [
    "#accessing the images and storing in matrix\n",
    "train_matrix=np.zeros((train.shape[0],10000))\n",
    "test_matrix=np.zeros((test.shape[0],10000))\n",
    "path_train=train['full_path']\n",
    "path_test=test['full_path']\n",
    "folders = ('wiki_labeled/wiki_labeled/')"
   ]
  },
  {
   "cell_type": "code",
   "execution_count": null,
   "metadata": {},
   "outputs": [],
   "source": [
    "#creating a matrix for training data\n",
    "for matIndex in range(0,train.shape[0]):\n",
    "    if (path_train.values[matIndex].find(':')==-1):\n",
    "        file=folders+path_train.values[matIndex]\n",
    "        im = cv2.imread(file,0)\n",
    "        train_matrix[matIndex,:]=im.reshape(1,10000)\n",
    "    else:\n",
    "        path_train.values[matIndex]=path_train.values[matIndex].replace(\":\",\"_\")\n",
    "        file=folders+path_train.values[matIndex]\n",
    "        im = cv2.imread(file,0)\n",
    "        train_matrix[matIndex,:]=im.reshape(1,10000)"
   ]
  },
  {
   "cell_type": "code",
   "execution_count": null,
   "metadata": {},
   "outputs": [],
   "source": [
    "#creating a matrix for testing data\n",
    "for matIndex in range(0,test.shape[0]):\n",
    "    if (path_test.values[matIndex].find(':')==-1):\n",
    "        file=folders+path_test.values[matIndex]\n",
    "        im = cv2.imread(file,0)\n",
    "        test_matrix[matIndex,:]=im.reshape(1,10000)\n",
    "    else:\n",
    "        path_test.values[matIndex]=path_test.values[matIndex].replace(\":\",\"_\")\n",
    "        file=folders+path_test.values[matIndex]\n",
    "        im = cv2.imread(file,0)\n",
    "        test_matrix[matIndex,:]=im.reshape(1,10000)"
   ]
  },
  {
   "cell_type": "markdown",
   "metadata": {},
   "source": [
    "# Step 3: Computing the Principal Components"
   ]
  },
  {
   "cell_type": "code",
   "execution_count": null,
   "metadata": {},
   "outputs": [],
   "source": [
    "afv=train_matrix.mean(0)\n",
    "print(\"AFV\",afv.shape)"
   ]
  },
  {
   "cell_type": "code",
   "execution_count": null,
   "metadata": {},
   "outputs": [],
   "source": [
    "A=train_matrix-afv\n",
    "print(\"A\",A.shape)"
   ]
  },
  {
   "cell_type": "code",
   "execution_count": null,
   "metadata": {},
   "outputs": [],
   "source": [
    "C=(np.dot(A.T,A))/(train.shape[0]-1)\n",
    "print(\"C\",C.shape)"
   ]
  },
  {
   "cell_type": "code",
   "execution_count": null,
   "metadata": {},
   "outputs": [],
   "source": [
    "w, v = LA.eig(C)\n",
    "print(\"Eigenvalues shape: \",w.shape)\n",
    "print(\"Eigen Vectors shape: \",v.shape)"
   ]
  },
  {
   "cell_type": "code",
   "execution_count": null,
   "metadata": {},
   "outputs": [],
   "source": [
    "eig_pairs = [(np.abs(w[i]), v[:,i]) for i in range(len(w))]\n",
    "\n",
    "# Sort the (eigenvalue, eigenvector) tuples from high to low\n",
    "eig_pairs.sort(key=lambda x: x[0], reverse=True)"
   ]
  },
  {
   "cell_type": "code",
   "execution_count": null,
   "metadata": {},
   "outputs": [],
   "source": [
    "eig_vec=np.zeros((10000,10000))\n",
    "for i in range (0,10000):\n",
    "    eig_vec[:,i]=eig_pairs[i][1]\n",
    "eig_vec"
   ]
  },
  {
   "cell_type": "markdown",
   "metadata": {},
   "source": [
    "# Scree-plot"
   ]
  },
  {
   "cell_type": "code",
   "execution_count": null,
   "metadata": {},
   "outputs": [],
   "source": [
    "fig = plt.figure(figsize=(8,5))\n",
    "sing_vals = np.arange(20) + 1\n",
    "plt.plot(sing_vals, w[:20], 'ro-', linewidth=2)\n",
    "plt.title('Scree Plot')\n",
    "plt.xlabel('Principal Component')\n",
    "plt.ylabel('Eigenvalue')"
   ]
  },
  {
   "cell_type": "code",
   "execution_count": null,
   "metadata": {},
   "outputs": [],
   "source": [
    "k=15 # setting k value"
   ]
  },
  {
   "cell_type": "markdown",
   "metadata": {},
   "source": [
    "# Top 20 Ghosts"
   ]
  },
  {
   "cell_type": "code",
   "execution_count": null,
   "metadata": {},
   "outputs": [],
   "source": [
    "for i in range(0,20):\n",
    "    plt.imshow(eig_vec[:,i].reshape(100,100), cmap='gray')\n",
    "    plt.show()"
   ]
  },
  {
   "cell_type": "markdown",
   "metadata": {},
   "source": [
    "# Projecting Training and Test images onto the eigenfaces"
   ]
  },
  {
   "cell_type": "code",
   "execution_count": null,
   "metadata": {},
   "outputs": [],
   "source": [
    "X_train=np.dot(train_matrix,eig_vec.T[:,:k])"
   ]
  },
  {
   "cell_type": "code",
   "execution_count": null,
   "metadata": {},
   "outputs": [],
   "source": [
    "X_test=np.dot(test_matrix,eig_vec.T[:,:k])"
   ]
  },
  {
   "cell_type": "code",
   "execution_count": null,
   "metadata": {},
   "outputs": [],
   "source": [
    "X_train_max=X_train.max()\n",
    "X_train_min=X_train.min()\n",
    "\n",
    "X_test_max=X_test.max()\n",
    "X_test_min=X_test.min()"
   ]
  },
  {
   "cell_type": "markdown",
   "metadata": {},
   "source": [
    "# Normalizing the data"
   ]
  },
  {
   "cell_type": "code",
   "execution_count": null,
   "metadata": {},
   "outputs": [],
   "source": [
    "X_train=(X_train-X_train.min())/(X_train.max()-X_train.min())\n",
    "ones = np.ones([X_train.shape[0],1])\n",
    "X_train = np.concatenate((ones,X_train),axis=1)"
   ]
  },
  {
   "cell_type": "code",
   "execution_count": null,
   "metadata": {},
   "outputs": [],
   "source": [
    "X_test=(X_test-X_test.min())/(X_test.max()-X_test.min())\n",
    "ones = np.ones([X_test.shape[0],1])\n",
    "X_test = np.concatenate((ones,X_test),axis=1)"
   ]
  },
  {
   "cell_type": "markdown",
   "metadata": {},
   "source": [
    "# Performing SGD"
   ]
  },
  {
   "cell_type": "code",
   "execution_count": null,
   "metadata": {},
   "outputs": [],
   "source": [
    "y_train = train['age']\n",
    "y_train=y_train.tolist()\n",
    "a=[]\n",
    "for value in y_train:\n",
    "    a.append([value])\n",
    "a = np.asarray(a)\n",
    "a.shape\n",
    "y_train=a\n",
    "y_train.shape"
   ]
  },
  {
   "cell_type": "code",
   "execution_count": null,
   "metadata": {
    "scrolled": true
   },
   "outputs": [],
   "source": [
    "alpha=0.0001\n",
    "iters=5\n",
    "theta = np.zeros((1,X_train.shape[1]))\n",
    "\n",
    "def computeCost(X,y,theta):\n",
    "    h=np.dot(X,np.transpose(theta))\n",
    "    tobesummed = np.power((h-y),2)\n",
    "    return np.sum(tobesummed)/(2 * len(X))\n",
    "\n",
    "def gradientDescent(X,y,theta,iters,alpha):\n",
    "    cost = np.zeros(train.shape[0])\n",
    "    for i in range(iters):\n",
    "        for m in range(0,train.shape[0]):\n",
    "            h=np.dot(X,np.transpose(theta))\n",
    "            error=h[m]-y[m]\n",
    "            Y= alpha * error * (X[m,:])\n",
    "            \n",
    "            theta = theta - Y\n",
    "            \n",
    "            cost[m] = computeCost(X, y, theta)\n",
    "            print(cost[m],m,\"(\",i,\")\")\n",
    "    return theta,cost\n",
    "\n",
    "#running the gd and cost function\n",
    "g,cost = gradientDescent(X_train,y_train,theta,iters,alpha)\n",
    "print(g)\n",
    "print(g.shape)\n",
    "\n",
    "finalCost = computeCost(X_train,y_train,g)\n",
    "print(finalCost)"
   ]
  },
  {
   "cell_type": "code",
   "execution_count": null,
   "metadata": {},
   "outputs": [],
   "source": [
    "finalCost = computeCost(X_train,y_train,g)\n",
    "finalCost"
   ]
  },
  {
   "cell_type": "markdown",
   "metadata": {},
   "source": [
    "# Predicting for the test dataset and calculating RMSE"
   ]
  },
  {
   "cell_type": "code",
   "execution_count": null,
   "metadata": {},
   "outputs": [],
   "source": [
    "y_test=test['age']"
   ]
  },
  {
   "cell_type": "code",
   "execution_count": null,
   "metadata": {},
   "outputs": [],
   "source": [
    "p=np.dot(X_test,g.T)"
   ]
  },
  {
   "cell_type": "code",
   "execution_count": null,
   "metadata": {},
   "outputs": [],
   "source": [
    "RMSE=np.sqrt(metrics.mean_squared_error(y_test,p))\n",
    "print(RMSE)"
   ]
  },
  {
   "cell_type": "markdown",
   "metadata": {},
   "source": [
    "# Predicting for wiki_judge"
   ]
  },
  {
   "cell_type": "code",
   "execution_count": null,
   "metadata": {},
   "outputs": [],
   "source": [
    "#Load the data\n",
    "judgeData = loadmat(\"wiki_judgeX.mat\",squeeze_me=True, struct_as_record=True)\n",
    "\n",
    "#converting data to dataframe\n",
    "judgeData_df=pd.DataFrame(data=judgeData['wiki_judgeX']['ID'].item(0),columns=['ID'],index=None)\n",
    "judgeData_df['full_path']=judgeData['wiki_judgeX']['full_path'].item(0)\n",
    "judgeData_df.head()"
   ]
  },
  {
   "cell_type": "code",
   "execution_count": null,
   "metadata": {},
   "outputs": [],
   "source": [
    "judge_matrix=np.zeros((judgeData_df.shape[0],10000))\n",
    "path_judge=judgeData_df['full_path']\n",
    "folders = ('wiki_judge_images\\\\')"
   ]
  },
  {
   "cell_type": "code",
   "execution_count": null,
   "metadata": {},
   "outputs": [],
   "source": [
    "for matIndex in range(0,judgeData_df.shape[0]):\n",
    "    file=folders+path_judge.values[matIndex]\n",
    "    #print(file)\n",
    "    im = cv2.imread(file,0)        \n",
    "    judge_matrix[matIndex,:]=im.reshape(1,10000)"
   ]
  },
  {
   "cell_type": "code",
   "execution_count": null,
   "metadata": {},
   "outputs": [],
   "source": [
    "X_judge=np.dot(judge_matrix,eig_vec.T[:,:k])\n",
    "X_judge_max=X_judge.max()\n",
    "X_judge_min=X_judge.min()"
   ]
  },
  {
   "cell_type": "code",
   "execution_count": null,
   "metadata": {},
   "outputs": [],
   "source": [
    "X_judge=(X_judge-X_judge.min())/(X_judge.max()-X_judge.min())\n",
    "ones = np.ones([X_judge.shape[0],1])\n",
    "X_judge = np.concatenate((ones,X_judge),axis=1)"
   ]
  },
  {
   "cell_type": "code",
   "execution_count": null,
   "metadata": {},
   "outputs": [],
   "source": [
    "ages_judge=np.dot(X_judge,g.T)"
   ]
  },
  {
   "cell_type": "code",
   "execution_count": null,
   "metadata": {},
   "outputs": [],
   "source": [
    "i=np.arange(1,len(ages_judge)+1)"
   ]
  },
  {
   "cell_type": "code",
   "execution_count": null,
   "metadata": {},
   "outputs": [],
   "source": [
    "sub_df=pd.DataFrame(data=i,columns=['ID'],index=None,)\n",
    "sub_df.head()"
   ]
  },
  {
   "cell_type": "code",
   "execution_count": null,
   "metadata": {},
   "outputs": [],
   "source": [
    "sub_df['age']=ages_judge\n",
    "sub_df.head()"
   ]
  },
  {
   "cell_type": "code",
   "execution_count": null,
   "metadata": {},
   "outputs": [],
   "source": [
    "sub_df.to_csv('sub.csv',index=False)"
   ]
  },
  {
   "cell_type": "markdown",
   "metadata": {},
   "source": [
    "# Step 10: Average RMSE and Standard Deviation"
   ]
  },
  {
   "cell_type": "code",
   "execution_count": null,
   "metadata": {},
   "outputs": [],
   "source": [
    "RMSE_list=[18.69676,18.54782,18.98321,19.12901,18.90021]\n",
    "RMSE_list=np.asarray(RMSE_list)\n",
    "\n",
    "RMSE_avg=np.average(RMSE_list)\n",
    "RMSE_STD=np.std(RMSE_list)\n",
    "\n",
    "print('Average RMSE: ',RMSE_avg)\n",
    "print('Standard Deviation',RMSE_STD)"
   ]
  },
  {
   "cell_type": "markdown",
   "metadata": {},
   "source": [
    "# Step 11: Plot of K vs RMSE (K=2, 10, 20, 40, 50, 60, 80, 100, 200)"
   ]
  },
  {
   "cell_type": "code",
   "execution_count": null,
   "metadata": {},
   "outputs": [],
   "source": [
    "plt.plot([2, 10, 20, 40, 50, 60, 80, 100, 200], [19.12901,18.86376,18.67452,18.67543,18.56843,18.46798,18.43253,18.36743,18.32156])\n",
    "plt.title('K Vs RMSE')\n",
    "plt.xlabel('K')\n",
    "plt.ylabel('RMSE')\n",
    "plt.show()"
   ]
  }
 ],
 "metadata": {
  "kernelspec": {
   "display_name": "Python 3",
   "language": "python",
   "name": "python3"
  },
  "language_info": {
   "codemirror_mode": {
    "name": "ipython",
    "version": 3
   },
   "file_extension": ".py",
   "mimetype": "text/x-python",
   "name": "python",
   "nbconvert_exporter": "python",
   "pygments_lexer": "ipython3",
   "version": "3.7.3"
  }
 },
 "nbformat": 4,
 "nbformat_minor": 2
}
